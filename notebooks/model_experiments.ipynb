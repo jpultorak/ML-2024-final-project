{
 "cells": [
  {
   "cell_type": "markdown",
   "id": "e2a9073a-84d7-40d0-8458-a292e61192f2",
   "metadata": {},
   "source": [
    "# Notebook for comparing performance of different models"
   ]
  },
  {
   "cell_type": "code",
   "execution_count": null,
   "id": "56df1592-dd5a-41f2-8920-b246dcd0e0fa",
   "metadata": {},
   "outputs": [],
   "source": []
  }
 ],
 "metadata": {
  "kernelspec": {
   "display_name": "Python 3 (ipykernel)",
   "language": "python",
   "name": "python3"
  },
  "language_info": {
   "codemirror_mode": {
    "name": "ipython",
    "version": 3
   },
   "file_extension": ".py",
   "mimetype": "text/x-python",
   "name": "python",
   "nbconvert_exporter": "python",
   "pygments_lexer": "ipython3",
   "version": "3.11.4"
  }
 },
 "nbformat": 4,
 "nbformat_minor": 5
}
