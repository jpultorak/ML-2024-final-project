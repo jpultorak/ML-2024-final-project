{
 "cells": [
  {
   "cell_type": "markdown",
   "id": "16d413a2-4f4c-4857-8094-23397329a0c3",
   "metadata": {},
   "source": [
    "# Exploratory Data Analysis notebook"
   ]
  },
  {
   "cell_type": "code",
   "execution_count": null,
   "id": "6a210558-90e6-468a-92ed-9f9a24cfd0fc",
   "metadata": {},
   "outputs": [],
   "source": []
  },
  {
   "cell_type": "code",
   "execution_count": null,
   "id": "01d39a50-c20f-4b98-9ac8-1e015c8d0d28",
   "metadata": {},
   "outputs": [],
   "source": []
  }
 ],
 "metadata": {
  "kernelspec": {
   "display_name": "Python 3 (ipykernel)",
   "language": "python",
   "name": "python3"
  },
  "language_info": {
   "codemirror_mode": {
    "name": "ipython",
    "version": 3
   },
   "file_extension": ".py",
   "mimetype": "text/x-python",
   "name": "python",
   "nbconvert_exporter": "python",
   "pygments_lexer": "ipython3",
   "version": "3.11.4"
  }
 },
 "nbformat": 4,
 "nbformat_minor": 5
}
